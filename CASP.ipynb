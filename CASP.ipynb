{
  "nbformat": 4,
  "nbformat_minor": 0,
  "metadata": {
    "colab": {
      "name": "CASP.ipynb",
      "version": "0.3.2",
      "provenance": [],
      "collapsed_sections": [],
      "include_colab_link": true
    },
    "kernelspec": {
      "name": "python3",
      "display_name": "Python 3"
    }
  },
  "cells": [
    {
      "cell_type": "markdown",
      "metadata": {
        "id": "view-in-github",
        "colab_type": "text"
      },
      "source": [
        "<a href=\"https://colab.research.google.com/github/jweir136/CASP/blob/master/CASP.ipynb\" target=\"_parent\"><img src=\"https://colab.research.google.com/assets/colab-badge.svg\" alt=\"Open In Colab\"/></a>"
      ]
    },
    {
      "metadata": {
        "id": "t0KYGBdBEEd7",
        "colab_type": "code",
        "colab": {}
      },
      "cell_type": "code",
      "source": [
        ""
      ],
      "execution_count": 0,
      "outputs": []
    },
    {
      "metadata": {
        "id": "xf5VVRlcEUjo",
        "colab_type": "code",
        "colab": {}
      },
      "cell_type": "code",
      "source": [
        "import pandas as pd\n",
        "\n",
        "data = pd.read_csv(\"./CASP.csv\")"
      ],
      "execution_count": 0,
      "outputs": []
    },
    {
      "metadata": {
        "id": "7hT8WP0XEZ53",
        "colab_type": "code",
        "colab": {
          "base_uri": "https://localhost:8080/",
          "height": 204
        },
        "outputId": "c69c3d16-0c30-4cc5-b1e3-40c7e2cdc030"
      },
      "cell_type": "code",
      "source": [
        "data.head()"
      ],
      "execution_count": 10,
      "outputs": [
        {
          "output_type": "execute_result",
          "data": {
            "text/html": [
              "<div>\n",
              "<style scoped>\n",
              "    .dataframe tbody tr th:only-of-type {\n",
              "        vertical-align: middle;\n",
              "    }\n",
              "\n",
              "    .dataframe tbody tr th {\n",
              "        vertical-align: top;\n",
              "    }\n",
              "\n",
              "    .dataframe thead th {\n",
              "        text-align: right;\n",
              "    }\n",
              "</style>\n",
              "<table border=\"1\" class=\"dataframe\">\n",
              "  <thead>\n",
              "    <tr style=\"text-align: right;\">\n",
              "      <th></th>\n",
              "      <th>RMSD</th>\n",
              "      <th>F1</th>\n",
              "      <th>F2</th>\n",
              "      <th>F3</th>\n",
              "      <th>F4</th>\n",
              "      <th>F5</th>\n",
              "      <th>F6</th>\n",
              "      <th>F7</th>\n",
              "      <th>F8</th>\n",
              "      <th>F9</th>\n",
              "    </tr>\n",
              "  </thead>\n",
              "  <tbody>\n",
              "    <tr>\n",
              "      <th>0</th>\n",
              "      <td>17.284</td>\n",
              "      <td>13558.30</td>\n",
              "      <td>4305.35</td>\n",
              "      <td>0.31754</td>\n",
              "      <td>162.1730</td>\n",
              "      <td>1.872791e+06</td>\n",
              "      <td>215.3590</td>\n",
              "      <td>4287.87</td>\n",
              "      <td>102</td>\n",
              "      <td>27.0302</td>\n",
              "    </tr>\n",
              "    <tr>\n",
              "      <th>1</th>\n",
              "      <td>6.021</td>\n",
              "      <td>6191.96</td>\n",
              "      <td>1623.16</td>\n",
              "      <td>0.26213</td>\n",
              "      <td>53.3894</td>\n",
              "      <td>8.034467e+05</td>\n",
              "      <td>87.2024</td>\n",
              "      <td>3328.91</td>\n",
              "      <td>39</td>\n",
              "      <td>38.5468</td>\n",
              "    </tr>\n",
              "    <tr>\n",
              "      <th>2</th>\n",
              "      <td>9.275</td>\n",
              "      <td>7725.98</td>\n",
              "      <td>1726.28</td>\n",
              "      <td>0.22343</td>\n",
              "      <td>67.2887</td>\n",
              "      <td>1.075648e+06</td>\n",
              "      <td>81.7913</td>\n",
              "      <td>2981.04</td>\n",
              "      <td>29</td>\n",
              "      <td>38.8119</td>\n",
              "    </tr>\n",
              "    <tr>\n",
              "      <th>3</th>\n",
              "      <td>15.851</td>\n",
              "      <td>8424.58</td>\n",
              "      <td>2368.25</td>\n",
              "      <td>0.28111</td>\n",
              "      <td>67.8325</td>\n",
              "      <td>1.210472e+06</td>\n",
              "      <td>109.4390</td>\n",
              "      <td>3248.22</td>\n",
              "      <td>70</td>\n",
              "      <td>39.0651</td>\n",
              "    </tr>\n",
              "    <tr>\n",
              "      <th>4</th>\n",
              "      <td>7.962</td>\n",
              "      <td>7460.84</td>\n",
              "      <td>1736.94</td>\n",
              "      <td>0.23280</td>\n",
              "      <td>52.4123</td>\n",
              "      <td>1.021020e+06</td>\n",
              "      <td>94.5234</td>\n",
              "      <td>2814.42</td>\n",
              "      <td>41</td>\n",
              "      <td>39.9147</td>\n",
              "    </tr>\n",
              "  </tbody>\n",
              "</table>\n",
              "</div>"
            ],
            "text/plain": [
              "     RMSD        F1       F2       F3        F4            F5        F6  \\\n",
              "0  17.284  13558.30  4305.35  0.31754  162.1730  1.872791e+06  215.3590   \n",
              "1   6.021   6191.96  1623.16  0.26213   53.3894  8.034467e+05   87.2024   \n",
              "2   9.275   7725.98  1726.28  0.22343   67.2887  1.075648e+06   81.7913   \n",
              "3  15.851   8424.58  2368.25  0.28111   67.8325  1.210472e+06  109.4390   \n",
              "4   7.962   7460.84  1736.94  0.23280   52.4123  1.021020e+06   94.5234   \n",
              "\n",
              "        F7   F8       F9  \n",
              "0  4287.87  102  27.0302  \n",
              "1  3328.91   39  38.5468  \n",
              "2  2981.04   29  38.8119  \n",
              "3  3248.22   70  39.0651  \n",
              "4  2814.42   41  39.9147  "
            ]
          },
          "metadata": {
            "tags": []
          },
          "execution_count": 10
        }
      ]
    },
    {
      "metadata": {
        "id": "2gQUcUDWEfAI",
        "colab_type": "code",
        "colab": {
          "base_uri": "https://localhost:8080/",
          "height": 34
        },
        "outputId": "5e1c3491-637e-4452-b790-419e92b882e7"
      },
      "cell_type": "code",
      "source": [
        "len(data.values)"
      ],
      "execution_count": 11,
      "outputs": [
        {
          "output_type": "execute_result",
          "data": {
            "text/plain": [
              "45730"
            ]
          },
          "metadata": {
            "tags": []
          },
          "execution_count": 11
        }
      ]
    },
    {
      "metadata": {
        "id": "tfw3_ROcEoyW",
        "colab_type": "code",
        "colab": {
          "base_uri": "https://localhost:8080/",
          "height": 272
        },
        "outputId": "0ef668dc-c29c-44e1-929c-2da0d981fcaf"
      },
      "cell_type": "code",
      "source": [
        "data.info()"
      ],
      "execution_count": 12,
      "outputs": [
        {
          "output_type": "stream",
          "text": [
            "<class 'pandas.core.frame.DataFrame'>\n",
            "RangeIndex: 45730 entries, 0 to 45729\n",
            "Data columns (total 10 columns):\n",
            "RMSD    45730 non-null float64\n",
            "F1      45730 non-null float64\n",
            "F2      45730 non-null float64\n",
            "F3      45730 non-null float64\n",
            "F4      45730 non-null float64\n",
            "F5      45730 non-null float64\n",
            "F6      45730 non-null float64\n",
            "F7      45730 non-null float64\n",
            "F8      45730 non-null int64\n",
            "F9      45730 non-null float64\n",
            "dtypes: float64(9), int64(1)\n",
            "memory usage: 3.5 MB\n"
          ],
          "name": "stdout"
        }
      ]
    },
    {
      "metadata": {
        "id": "tamdF31WEs3-",
        "colab_type": "code",
        "colab": {
          "base_uri": "https://localhost:8080/",
          "height": 297
        },
        "outputId": "8bada4c9-b717-44dc-8d45-e7de0974854f"
      },
      "cell_type": "code",
      "source": [
        "data.describe()"
      ],
      "execution_count": 13,
      "outputs": [
        {
          "output_type": "execute_result",
          "data": {
            "text/html": [
              "<div>\n",
              "<style scoped>\n",
              "    .dataframe tbody tr th:only-of-type {\n",
              "        vertical-align: middle;\n",
              "    }\n",
              "\n",
              "    .dataframe tbody tr th {\n",
              "        vertical-align: top;\n",
              "    }\n",
              "\n",
              "    .dataframe thead th {\n",
              "        text-align: right;\n",
              "    }\n",
              "</style>\n",
              "<table border=\"1\" class=\"dataframe\">\n",
              "  <thead>\n",
              "    <tr style=\"text-align: right;\">\n",
              "      <th></th>\n",
              "      <th>RMSD</th>\n",
              "      <th>F1</th>\n",
              "      <th>F2</th>\n",
              "      <th>F3</th>\n",
              "      <th>F4</th>\n",
              "      <th>F5</th>\n",
              "      <th>F6</th>\n",
              "      <th>F7</th>\n",
              "      <th>F8</th>\n",
              "      <th>F9</th>\n",
              "    </tr>\n",
              "  </thead>\n",
              "  <tbody>\n",
              "    <tr>\n",
              "      <th>count</th>\n",
              "      <td>45730.000000</td>\n",
              "      <td>45730.000000</td>\n",
              "      <td>45730.000000</td>\n",
              "      <td>45730.000000</td>\n",
              "      <td>45730.000000</td>\n",
              "      <td>4.573000e+04</td>\n",
              "      <td>45730.000000</td>\n",
              "      <td>45730.000000</td>\n",
              "      <td>45730.000000</td>\n",
              "      <td>45730.000000</td>\n",
              "    </tr>\n",
              "    <tr>\n",
              "      <th>mean</th>\n",
              "      <td>7.748528</td>\n",
              "      <td>9871.596995</td>\n",
              "      <td>3017.367175</td>\n",
              "      <td>0.302392</td>\n",
              "      <td>103.492433</td>\n",
              "      <td>1.368299e+06</td>\n",
              "      <td>145.638061</td>\n",
              "      <td>3989.755990</td>\n",
              "      <td>69.975071</td>\n",
              "      <td>34.523664</td>\n",
              "    </tr>\n",
              "    <tr>\n",
              "      <th>std</th>\n",
              "      <td>6.118312</td>\n",
              "      <td>4058.138034</td>\n",
              "      <td>1464.324663</td>\n",
              "      <td>0.062886</td>\n",
              "      <td>55.424985</td>\n",
              "      <td>5.640367e+05</td>\n",
              "      <td>69.999230</td>\n",
              "      <td>1993.574575</td>\n",
              "      <td>56.493443</td>\n",
              "      <td>5.979755</td>\n",
              "    </tr>\n",
              "    <tr>\n",
              "      <th>min</th>\n",
              "      <td>0.000000</td>\n",
              "      <td>2392.050000</td>\n",
              "      <td>403.500000</td>\n",
              "      <td>0.092500</td>\n",
              "      <td>10.310100</td>\n",
              "      <td>3.194902e+05</td>\n",
              "      <td>31.970400</td>\n",
              "      <td>0.000000</td>\n",
              "      <td>0.000000</td>\n",
              "      <td>15.228000</td>\n",
              "    </tr>\n",
              "    <tr>\n",
              "      <th>25%</th>\n",
              "      <td>2.305000</td>\n",
              "      <td>6936.680000</td>\n",
              "      <td>1979.045000</td>\n",
              "      <td>0.258740</td>\n",
              "      <td>63.563900</td>\n",
              "      <td>9.535912e+05</td>\n",
              "      <td>94.757500</td>\n",
              "      <td>3165.322500</td>\n",
              "      <td>31.000000</td>\n",
              "      <td>30.424725</td>\n",
              "    </tr>\n",
              "    <tr>\n",
              "      <th>50%</th>\n",
              "      <td>5.030000</td>\n",
              "      <td>8898.805000</td>\n",
              "      <td>2668.155000</td>\n",
              "      <td>0.300150</td>\n",
              "      <td>87.740800</td>\n",
              "      <td>1.237219e+06</td>\n",
              "      <td>126.176000</td>\n",
              "      <td>3840.170000</td>\n",
              "      <td>54.000000</td>\n",
              "      <td>35.299300</td>\n",
              "    </tr>\n",
              "    <tr>\n",
              "      <th>75%</th>\n",
              "      <td>13.379000</td>\n",
              "      <td>12126.150000</td>\n",
              "      <td>3786.410000</td>\n",
              "      <td>0.342890</td>\n",
              "      <td>133.646750</td>\n",
              "      <td>1.690920e+06</td>\n",
              "      <td>181.468500</td>\n",
              "      <td>4644.192500</td>\n",
              "      <td>91.000000</td>\n",
              "      <td>38.870800</td>\n",
              "    </tr>\n",
              "    <tr>\n",
              "      <th>max</th>\n",
              "      <td>20.999000</td>\n",
              "      <td>40034.900000</td>\n",
              "      <td>15312.000000</td>\n",
              "      <td>0.577690</td>\n",
              "      <td>369.317000</td>\n",
              "      <td>5.472011e+06</td>\n",
              "      <td>598.408000</td>\n",
              "      <td>105948.170000</td>\n",
              "      <td>350.000000</td>\n",
              "      <td>55.300900</td>\n",
              "    </tr>\n",
              "  </tbody>\n",
              "</table>\n",
              "</div>"
            ],
            "text/plain": [
              "               RMSD            F1            F2            F3            F4  \\\n",
              "count  45730.000000  45730.000000  45730.000000  45730.000000  45730.000000   \n",
              "mean       7.748528   9871.596995   3017.367175      0.302392    103.492433   \n",
              "std        6.118312   4058.138034   1464.324663      0.062886     55.424985   \n",
              "min        0.000000   2392.050000    403.500000      0.092500     10.310100   \n",
              "25%        2.305000   6936.680000   1979.045000      0.258740     63.563900   \n",
              "50%        5.030000   8898.805000   2668.155000      0.300150     87.740800   \n",
              "75%       13.379000  12126.150000   3786.410000      0.342890    133.646750   \n",
              "max       20.999000  40034.900000  15312.000000      0.577690    369.317000   \n",
              "\n",
              "                 F5            F6             F7            F8            F9  \n",
              "count  4.573000e+04  45730.000000   45730.000000  45730.000000  45730.000000  \n",
              "mean   1.368299e+06    145.638061    3989.755990     69.975071     34.523664  \n",
              "std    5.640367e+05     69.999230    1993.574575     56.493443      5.979755  \n",
              "min    3.194902e+05     31.970400       0.000000      0.000000     15.228000  \n",
              "25%    9.535912e+05     94.757500    3165.322500     31.000000     30.424725  \n",
              "50%    1.237219e+06    126.176000    3840.170000     54.000000     35.299300  \n",
              "75%    1.690920e+06    181.468500    4644.192500     91.000000     38.870800  \n",
              "max    5.472011e+06    598.408000  105948.170000    350.000000     55.300900  "
            ]
          },
          "metadata": {
            "tags": []
          },
          "execution_count": 13
        }
      ]
    },
    {
      "metadata": {
        "id": "auNTrNxlE0OP",
        "colab_type": "code",
        "colab": {
          "base_uri": "https://localhost:8080/",
          "height": 204
        },
        "outputId": "c80ae69b-d928-42b4-9e7b-2be4e17d35f8"
      },
      "cell_type": "code",
      "source": [
        "data.isnull().any()"
      ],
      "execution_count": 14,
      "outputs": [
        {
          "output_type": "execute_result",
          "data": {
            "text/plain": [
              "RMSD    False\n",
              "F1      False\n",
              "F2      False\n",
              "F3      False\n",
              "F4      False\n",
              "F5      False\n",
              "F6      False\n",
              "F7      False\n",
              "F8      False\n",
              "F9      False\n",
              "dtype: bool"
            ]
          },
          "metadata": {
            "tags": []
          },
          "execution_count": 14
        }
      ]
    },
    {
      "metadata": {
        "id": "ocvFhdNUFOK5",
        "colab_type": "code",
        "colab": {}
      },
      "cell_type": "code",
      "source": [
        "import matplotlib.pyplot as plt\n",
        "%matplotlib inline"
      ],
      "execution_count": 0,
      "outputs": []
    },
    {
      "metadata": {
        "id": "nhyekwxoFQ5Y",
        "colab_type": "code",
        "colab": {
          "base_uri": "https://localhost:8080/",
          "height": 501
        },
        "outputId": "3efacaa5-025c-4450-a905-75fb09162272"
      },
      "cell_type": "code",
      "source": [
        "data.hist(bins=50)"
      ],
      "execution_count": 18,
      "outputs": [
        {
          "output_type": "execute_result",
          "data": {
            "text/plain": [
              "array([[<matplotlib.axes._subplots.AxesSubplot object at 0x7f0ca1932400>,\n",
              "        <matplotlib.axes._subplots.AxesSubplot object at 0x7f0ca1320668>,\n",
              "        <matplotlib.axes._subplots.AxesSubplot object at 0x7f0ca12e0198>],\n",
              "       [<matplotlib.axes._subplots.AxesSubplot object at 0x7f0c9fa857b8>,\n",
              "        <matplotlib.axes._subplots.AxesSubplot object at 0x7f0c9fa39358>,\n",
              "        <matplotlib.axes._subplots.AxesSubplot object at 0x7f0c9fa39390>],\n",
              "       [<matplotlib.axes._subplots.AxesSubplot object at 0x7f0c9fa203c8>,\n",
              "        <matplotlib.axes._subplots.AxesSubplot object at 0x7f0c9f9d59e8>,\n",
              "        <matplotlib.axes._subplots.AxesSubplot object at 0x7f0c9f993588>],\n",
              "       [<matplotlib.axes._subplots.AxesSubplot object at 0x7f0c9fa47160>,\n",
              "        <matplotlib.axes._subplots.AxesSubplot object at 0x7f0c9f9667f0>,\n",
              "        <matplotlib.axes._subplots.AxesSubplot object at 0x7f0c9f91bda0>]],\n",
              "      dtype=object)"
            ]
          },
          "metadata": {
            "tags": []
          },
          "execution_count": 18
        },
        {
          "output_type": "display_data",
          "data": {
            "image/png": "[encoded data removed]",
            "text/plain": [
              "<matplotlib.figure.Figure at 0x7f0ca18fbd68>"
            ]
          },
          "metadata": {
            "tags": []
          }
        }
      ]
    },
    {
      "metadata": {
        "id": "QfRMuZVdFwAo",
        "colab_type": "code",
        "colab": {
          "base_uri": "https://localhost:8080/",
          "height": 265
        },
        "outputId": "bcd3c244-bf09-4a75-8fbd-60eb27df43af"
      },
      "cell_type": "code",
      "source": [
        "import numpy as np\n",
        "\n",
        "f1 = np.log(data['F1'])\n",
        "f1.hist(bins=50)\n",
        "\n",
        "data['F1'] = f1"
      ],
      "execution_count": 20,
      "outputs": [
        {
          "output_type": "display_data",
          "data": {
            "image/png": "[encoded data removed]",
            "text/plain": [
              "<matplotlib.figure.Figure at 0x7f0ca195bf98>"
            ]
          },
          "metadata": {
            "tags": []
          }
        }
      ]
    },
    {
      "metadata": {
        "id": "ohU8YTlnGIFx",
        "colab_type": "code",
        "colab": {}
      },
      "cell_type": "code",
      "source": [
        ""
      ],
      "execution_count": 0,
      "outputs": []
    },
    {
      "metadata": {
        "id": "Jr0kkwJAF5yI",
        "colab_type": "code",
        "colab": {
          "base_uri": "https://localhost:8080/",
          "height": 265
        },
        "outputId": "d5597675-ae24-43f7-f5de-cbfce8549d66"
      },
      "cell_type": "code",
      "source": [
        "f2 = np.log(data['F2'])\n",
        "f2.hist(bins=50)\n",
        "\n",
        "data['F2'] = f2"
      ],
      "execution_count": 22,
      "outputs": [
        {
          "output_type": "display_data",
          "data": {
            "image/png": "[encoded data removed]",
            "text/plain": [
              "<matplotlib.figure.Figure at 0x7f0ca1923c18>"
            ]
          },
          "metadata": {
            "tags": []
          }
        }
      ]
    },
    {
      "metadata": {
        "id": "iNX-ibdPGJDn",
        "colab_type": "code",
        "colab": {
          "base_uri": "https://localhost:8080/",
          "height": 265
        },
        "outputId": "90dd4eb4-83a8-403a-a6e0-6900510b84e7"
      },
      "cell_type": "code",
      "source": [
        "f4 = np.log(data['F2'])\n",
        "f4.hist(bins=50)\n",
        "\n",
        "data['F4'] = f4"
      ],
      "execution_count": 24,
      "outputs": [
        {
          "output_type": "display_data",
          "data": {
            "image/png": "[encoded data removed]",
            "text/plain": [
              "<matplotlib.figure.Figure at 0x7f0c9f2c1748>"
            ]
          },
          "metadata": {
            "tags": []
          }
        }
      ]
    },
    {
      "metadata": {
        "id": "mazvEvckGxCx",
        "colab_type": "code",
        "colab": {
          "base_uri": "https://localhost:8080/",
          "height": 265
        },
        "outputId": "c32fbd57-c63b-4181-ce24-ae65b66ea983"
      },
      "cell_type": "code",
      "source": [
        "f5 = np.log(data['F5'])\n",
        "f5.hist(bins=50)\n",
        "\n",
        "data['F5'] = f5"
      ],
      "execution_count": 26,
      "outputs": [
        {
          "output_type": "display_data",
          "data": {
            "image/png": "[encoded data removed]",
            "text/plain": [
              "<matplotlib.figure.Figure at 0x7f0ca519b940>"
            ]
          },
          "metadata": {
            "tags": []
          }
        }
      ]
    },
    {
      "metadata": {
        "id": "WWzHiOPdGuFv",
        "colab_type": "code",
        "colab": {
          "base_uri": "https://localhost:8080/",
          "height": 267
        },
        "outputId": "cd6b2bcd-14fa-42d1-ea28-91d0e909ae5c"
      },
      "cell_type": "code",
      "source": [
        "f6 = np.log(data['F6'])\n",
        "f6.hist(bins=50)\n",
        "\n",
        "data['F6'] = f6"
      ],
      "execution_count": 28,
      "outputs": [
        {
          "output_type": "display_data",
          "data": {
            "image/png": "[encoded data removed]",
            "text/plain": [
              "<matplotlib.figure.Figure at 0x7f0ca1970f28>"
            ]
          },
          "metadata": {
            "tags": []
          }
        }
      ]
    },
    {
      "metadata": {
        "id": "7b1q8021HB_6",
        "colab_type": "code",
        "colab": {
          "base_uri": "https://localhost:8080/",
          "height": 265
        },
        "outputId": "50074336-3486-4e2f-e831-627729ad2464"
      },
      "cell_type": "code",
      "source": [
        "f7 = np.log(data['F7'] + 1)\n",
        "f7.hist(bins=50)\n",
        "\n",
        "data['F7'] = f7"
      ],
      "execution_count": 31,
      "outputs": [
        {
          "output_type": "display_data",
          "data": {
            "image/png": "[encoded data removed]",
            "text/plain": [
              "<matplotlib.figure.Figure at 0x7f0c9eeb0f98>"
            ]
          },
          "metadata": {
            "tags": []
          }
        }
      ]
    },
    {
      "metadata": {
        "id": "nLdl8bASHPep",
        "colab_type": "code",
        "colab": {
          "base_uri": "https://localhost:8080/",
          "height": 265
        },
        "outputId": "4ca1fed4-37c6-412b-8fc5-0c8530cdd89d"
      },
      "cell_type": "code",
      "source": [
        "f8 = np.log(data['F8'] + 1)\n",
        "f8.hist(bins=50)\n",
        "\n",
        "data['F8'] = f8"
      ],
      "execution_count": 34,
      "outputs": [
        {
          "output_type": "display_data",
          "data": {
            "image/png": "[encoded data removed]",
            "text/plain": [
              "<matplotlib.figure.Figure at 0x7f0c9ee3a6d8>"
            ]
          },
          "metadata": {
            "tags": []
          }
        }
      ]
    },
    {
      "metadata": {
        "id": "nleQ5B0CHbws",
        "colab_type": "code",
        "colab": {
          "base_uri": "https://localhost:8080/",
          "height": 265
        },
        "outputId": "a8dcfafa-c20a-41a8-9311-19c54e6d00bb"
      },
      "cell_type": "code",
      "source": [
        "f9 = np.log(data['F9'])\n",
        "f9.hist(bins=50)\n",
        "\n",
        "data['F9'] = data"
      ],
      "execution_count": 36,
      "outputs": [
        {
          "output_type": "display_data",
          "data": {
            "image/png": "[encoded data removed]",
            "text/plain": [
              "<matplotlib.figure.Figure at 0x7f0c9d8b47b8>"
            ]
          },
          "metadata": {
            "tags": []
          }
        }
      ]
    },
    {
      "metadata": {
        "id": "2I8HM6olHnwl",
        "colab_type": "code",
        "colab": {
          "base_uri": "https://localhost:8080/",
          "height": 359
        },
        "outputId": "9fdb545d-db56-47df-e7c3-cad8a85f81ef"
      },
      "cell_type": "code",
      "source": [
        "data.corr()"
      ],
      "execution_count": 37,
      "outputs": [
        {
          "output_type": "execute_result",
          "data": {
            "text/html": [
              "<div>\n",
              "<style scoped>\n",
              "    .dataframe tbody tr th:only-of-type {\n",
              "        vertical-align: middle;\n",
              "    }\n",
              "\n",
              "    .dataframe tbody tr th {\n",
              "        vertical-align: top;\n",
              "    }\n",
              "\n",
              "    .dataframe thead th {\n",
              "        text-align: right;\n",
              "    }\n",
              "</style>\n",
              "<table border=\"1\" class=\"dataframe\">\n",
              "  <thead>\n",
              "    <tr style=\"text-align: right;\">\n",
              "      <th></th>\n",
              "      <th>RMSD</th>\n",
              "      <th>F1</th>\n",
              "      <th>F2</th>\n",
              "      <th>F3</th>\n",
              "      <th>F4</th>\n",
              "      <th>F5</th>\n",
              "      <th>F6</th>\n",
              "      <th>F7</th>\n",
              "      <th>F8</th>\n",
              "      <th>F9</th>\n",
              "    </tr>\n",
              "  </thead>\n",
              "  <tbody>\n",
              "    <tr>\n",
              "      <th>RMSD</th>\n",
              "      <td>1.000000</td>\n",
              "      <td>-0.003508</td>\n",
              "      <td>0.155802</td>\n",
              "      <td>0.374309</td>\n",
              "      <td>0.154600</td>\n",
              "      <td>-0.003595</td>\n",
              "      <td>-0.015784</td>\n",
              "      <td>-0.008452</td>\n",
              "      <td>0.085364</td>\n",
              "      <td>1.000000</td>\n",
              "    </tr>\n",
              "    <tr>\n",
              "      <th>F1</th>\n",
              "      <td>-0.003508</td>\n",
              "      <td>1.000000</td>\n",
              "      <td>0.895106</td>\n",
              "      <td>0.132689</td>\n",
              "      <td>0.890718</td>\n",
              "      <td>0.997861</td>\n",
              "      <td>0.967514</td>\n",
              "      <td>0.864836</td>\n",
              "      <td>0.589484</td>\n",
              "      <td>-0.003508</td>\n",
              "    </tr>\n",
              "    <tr>\n",
              "      <th>F2</th>\n",
              "      <td>0.155802</td>\n",
              "      <td>0.895106</td>\n",
              "      <td>1.000000</td>\n",
              "      <td>0.555448</td>\n",
              "      <td>0.999169</td>\n",
              "      <td>0.891858</td>\n",
              "      <td>0.910233</td>\n",
              "      <td>0.764944</td>\n",
              "      <td>0.564186</td>\n",
              "      <td>0.155802</td>\n",
              "    </tr>\n",
              "    <tr>\n",
              "      <th>F3</th>\n",
              "      <td>0.374309</td>\n",
              "      <td>0.132689</td>\n",
              "      <td>0.555448</td>\n",
              "      <td>1.000000</td>\n",
              "      <td>0.559231</td>\n",
              "      <td>0.129303</td>\n",
              "      <td>0.229368</td>\n",
              "      <td>0.094973</td>\n",
              "      <td>0.157792</td>\n",
              "      <td>0.374309</td>\n",
              "    </tr>\n",
              "    <tr>\n",
              "      <th>F4</th>\n",
              "      <td>0.154600</td>\n",
              "      <td>0.890718</td>\n",
              "      <td>0.999169</td>\n",
              "      <td>0.559231</td>\n",
              "      <td>1.000000</td>\n",
              "      <td>0.887704</td>\n",
              "      <td>0.906736</td>\n",
              "      <td>0.763157</td>\n",
              "      <td>0.561900</td>\n",
              "      <td>0.154600</td>\n",
              "    </tr>\n",
              "    <tr>\n",
              "      <th>F5</th>\n",
              "      <td>-0.003595</td>\n",
              "      <td>0.997861</td>\n",
              "      <td>0.891858</td>\n",
              "      <td>0.129303</td>\n",
              "      <td>0.887704</td>\n",
              "      <td>1.000000</td>\n",
              "      <td>0.960380</td>\n",
              "      <td>0.862812</td>\n",
              "      <td>0.584381</td>\n",
              "      <td>-0.003595</td>\n",
              "    </tr>\n",
              "    <tr>\n",
              "      <th>F6</th>\n",
              "      <td>-0.015784</td>\n",
              "      <td>0.967514</td>\n",
              "      <td>0.910233</td>\n",
              "      <td>0.229368</td>\n",
              "      <td>0.906736</td>\n",
              "      <td>0.960380</td>\n",
              "      <td>1.000000</td>\n",
              "      <td>0.840703</td>\n",
              "      <td>0.599340</td>\n",
              "      <td>-0.015784</td>\n",
              "    </tr>\n",
              "    <tr>\n",
              "      <th>F7</th>\n",
              "      <td>-0.008452</td>\n",
              "      <td>0.864836</td>\n",
              "      <td>0.764944</td>\n",
              "      <td>0.094973</td>\n",
              "      <td>0.763157</td>\n",
              "      <td>0.862812</td>\n",
              "      <td>0.840703</td>\n",
              "      <td>1.000000</td>\n",
              "      <td>0.515009</td>\n",
              "      <td>-0.008452</td>\n",
              "    </tr>\n",
              "    <tr>\n",
              "      <th>F8</th>\n",
              "      <td>0.085364</td>\n",
              "      <td>0.589484</td>\n",
              "      <td>0.564186</td>\n",
              "      <td>0.157792</td>\n",
              "      <td>0.561900</td>\n",
              "      <td>0.584381</td>\n",
              "      <td>0.599340</td>\n",
              "      <td>0.515009</td>\n",
              "      <td>1.000000</td>\n",
              "      <td>0.085364</td>\n",
              "    </tr>\n",
              "    <tr>\n",
              "      <th>F9</th>\n",
              "      <td>1.000000</td>\n",
              "      <td>-0.003508</td>\n",
              "      <td>0.155802</td>\n",
              "      <td>0.374309</td>\n",
              "      <td>0.154600</td>\n",
              "      <td>-0.003595</td>\n",
              "      <td>-0.015784</td>\n",
              "      <td>-0.008452</td>\n",
              "      <td>0.085364</td>\n",
              "      <td>1.000000</td>\n",
              "    </tr>\n",
              "  </tbody>\n",
              "</table>\n",
              "</div>"
            ],
            "text/plain": [
              "          RMSD        F1        F2        F3        F4        F5        F6  \\\n",
              "RMSD  1.000000 -0.003508  0.155802  0.374309  0.154600 -0.003595 -0.015784   \n",
              "F1   -0.003508  1.000000  0.895106  0.132689  0.890718  0.997861  0.967514   \n",
              "F2    0.155802  0.895106  1.000000  0.555448  0.999169  0.891858  0.910233   \n",
              "F3    0.374309  0.132689  0.555448  1.000000  0.559231  0.129303  0.229368   \n",
              "F4    0.154600  0.890718  0.999169  0.559231  1.000000  0.887704  0.906736   \n",
              "F5   -0.003595  0.997861  0.891858  0.129303  0.887704  1.000000  0.960380   \n",
              "F6   -0.015784  0.967514  0.910233  0.229368  0.906736  0.960380  1.000000   \n",
              "F7   -0.008452  0.864836  0.764944  0.094973  0.763157  0.862812  0.840703   \n",
              "F8    0.085364  0.589484  0.564186  0.157792  0.561900  0.584381  0.599340   \n",
              "F9    1.000000 -0.003508  0.155802  0.374309  0.154600 -0.003595 -0.015784   \n",
              "\n",
              "            F7        F8        F9  \n",
              "RMSD -0.008452  0.085364  1.000000  \n",
              "F1    0.864836  0.589484 -0.003508  \n",
              "F2    0.764944  0.564186  0.155802  \n",
              "F3    0.094973  0.157792  0.374309  \n",
              "F4    0.763157  0.561900  0.154600  \n",
              "F5    0.862812  0.584381 -0.003595  \n",
              "F6    0.840703  0.599340 -0.015784  \n",
              "F7    1.000000  0.515009 -0.008452  \n",
              "F8    0.515009  1.000000  0.085364  \n",
              "F9   -0.008452  0.085364  1.000000  "
            ]
          },
          "metadata": {
            "tags": []
          },
          "execution_count": 37
        }
      ]
    },
    {
      "metadata": {
        "id": "eG-Ym25_Ht5x",
        "colab_type": "code",
        "colab": {}
      },
      "cell_type": "code",
      "source": [
        "from sklearn.model_selection import cross_val_score, KFold, train_test_split"
      ],
      "execution_count": 0,
      "outputs": []
    },
    {
      "metadata": {
        "id": "bOMVDVWrH_hQ",
        "colab_type": "code",
        "colab": {}
      },
      "cell_type": "code",
      "source": [
        "np.random.seed(42)"
      ],
      "execution_count": 0,
      "outputs": []
    }
  ]
}